{
 "cells": [
  {
   "cell_type": "code",
   "execution_count": 10,
   "id": "b7d82101",
   "metadata": {},
   "outputs": [],
   "source": [
    "import pandas as pd\n",
    "import matplotlib.pyplot as plt \n",
    "import seaborn as sns\n",
    "import pickle\n",
    "from sklearn.feature_extraction import DictVectorizer\n",
    "from sklearn.linear_model import LinearRegression\n",
    "from sklearn.linear_model import Ridge\n",
    "from sklearn.linear_model import SGDRegressor\n",
    "from sklearn.metrics import mean_squared_error"
   ]
  },
  {
   "cell_type": "code",
   "execution_count": 11,
   "id": "8371fddb",
   "metadata": {},
   "outputs": [
    {
     "ename": "ModuleNotFoundError",
     "evalue": "No module named 'mlflow'",
     "output_type": "error",
     "traceback": [
      "\u001b[0;31m---------------------------------------------------------------------------\u001b[0m",
      "\u001b[0;31mModuleNotFoundError\u001b[0m                       Traceback (most recent call last)",
      "Cell \u001b[0;32mIn[11], line 1\u001b[0m\n\u001b[0;32m----> 1\u001b[0m \u001b[38;5;28;01mimport\u001b[39;00m \u001b[38;5;21;01mmlflow\u001b[39;00m\n\u001b[1;32m      2\u001b[0m mlflow\u001b[38;5;241m.\u001b[39mset_tracking_uri(\u001b[38;5;124m\"\u001b[39m\u001b[38;5;124m$MLFLOW_DB_URI\u001b[39m\u001b[38;5;124m\"\u001b[39m)\n\u001b[1;32m      3\u001b[0m mlflow\u001b[38;5;241m.\u001b[39mset_experiment(\u001b[38;5;124m\"\u001b[39m\u001b[38;5;124mnyc-taxi-experiment\u001b[39m\u001b[38;5;124m\"\u001b[39m)\n",
      "\u001b[0;31mModuleNotFoundError\u001b[0m: No module named 'mlflow'"
     ]
    }
   ],
   "source": [
    "import mlflow\n",
    "mlflow.set_tracking_uri(\"$MLFLOW_DB_URI\")\n",
    "mlflow.set_experiment(\"nyc-taxi-experiment\")"
   ]
  },
  {
   "cell_type": "code",
   "execution_count": 2,
   "id": "2180b68a-289f-432c-a8a1-4ae9bd3b4c43",
   "metadata": {},
   "outputs": [],
   "source": [
    "categorical = ['PULocationID','DOLocationID']\n",
    "numerical = ['trip_distance']\n",
    "target = 'duration'\n",
    "def get_df(parquet_file_path):\n",
    "    df = pd.read_parquet(parquet_file_path)\n",
    "    df['duration'] = df.tpep_dropoff_datetime - df.tpep_pickup_datetime\n",
    "    df.duration = df.duration.apply(lambda x: x.total_seconds()/60)\n",
    "    df = df[(df.duration >= 1) & (df.duration <=60)]\n",
    "    df[categorical] = df[categorical].astype(str)\n",
    "    df['PU_DO'] = df['PULocationID'] + '_' + df['DOLocationID']   # creating a new feature\n",
    "    return df"
   ]
  },
  {
   "cell_type": "code",
   "execution_count": 3,
   "id": "c0a8b4da-5156-4592-9192-1b25e4a87c8a",
   "metadata": {},
   "outputs": [],
   "source": [
    "train_df = get_df(\"data/yellow_tripdata_2023-01.parquet\")\n",
    "val_df = get_df(\"data/yellow_tripdata_2023-02.parquet\")\n",
    "val_df.trip_distance = val_df.trip_distance.apply(lambda x: val_df['trip_distance'].mean() if x>13 else x)"
   ]
  },
  {
   "cell_type": "code",
   "execution_count": 4,
   "id": "a70cfd48-5ad3-46b9-bff6-39a78dea3044",
   "metadata": {},
   "outputs": [],
   "source": [
    "dv = DictVectorizer()\n",
    "new_feature = ['PU_DO']\n",
    "train_dict = train_df[new_feature + numerical].to_dict(orient='records')\n",
    "val_dict = val_df[new_feature + numerical].to_dict(orient='records')\n",
    "\n",
    "x_train = dv.fit_transform(train_dict)\n",
    "y_train = train_df[target].values\n",
    "\n",
    "x_val = dv.transform(val_dict)\n",
    "y_val = val_df[target].values"
   ]
  },
  {
   "cell_type": "code",
   "execution_count": null,
   "id": "c7e0554d",
   "metadata": {},
   "outputs": [],
   "source": [
    "with mlflow.start_run():\n",
    "    alpha = 0.1\n",
    "    mlflow.log_param(\"alpha\", alpha)\n",
    "    mlflow.set_tag('model', 'Ridge')\n",
    "    model = Ridge(alpha=alpha, random_state=42)\n",
    "    model.fit(x_train, y_train)\n",
    "    y_pred = model.predict(x_val)\n",
    "    rmse = mean_squared_error(y_val, y_pred, squared=False)\n",
    "    mlflow.log_metric(\"rmse\", rmse)\n",
    "    print(f\"RMSE: {rmse}\")\n",
    "    with open('model.bin','wb') as f_out:\n",
    "        pickle.dump((dv,model),f_out)"
   ]
  },
  {
   "cell_type": "code",
   "execution_count": null,
   "id": "fc2bf228",
   "metadata": {},
   "outputs": [],
   "source": []
  }
 ],
 "metadata": {
  "kernelspec": {
   "display_name": "base",
   "language": "python",
   "name": "python3"
  },
  "language_info": {
   "codemirror_mode": {
    "name": "ipython",
    "version": 3
   },
   "file_extension": ".py",
   "mimetype": "text/x-python",
   "name": "python",
   "nbconvert_exporter": "python",
   "pygments_lexer": "ipython3",
   "version": "3.11.7"
  }
 },
 "nbformat": 4,
 "nbformat_minor": 5
}
