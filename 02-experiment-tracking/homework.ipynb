{
 "cells": [
  {
   "cell_type": "code",
   "execution_count": 2,
   "id": "b7d82101",
   "metadata": {},
   "outputs": [],
   "source": [
    "import pandas as pd\n",
    "import matplotlib.pyplot as plt \n",
    "import seaborn as sns\n",
    "import pickle\n",
    "from sklearn.feature_extraction import DictVectorizer\n",
    "from sklearn.linear_model import LinearRegression\n",
    "from sklearn.linear_model import Ridge\n",
    "from sklearn.linear_model import SGDRegressor\n",
    "from sklearn.metrics import mean_squared_error"
   ]
  },
  {
   "cell_type": "code",
   "execution_count": 3,
   "id": "2180b68a-289f-432c-a8a1-4ae9bd3b4c43",
   "metadata": {},
   "outputs": [],
   "source": [
    "categorical = ['PULocationID','DOLocationID']\n",
    "numerical = ['trip_distance']\n",
    "target = 'duration'\n",
    "def get_df(parquet_file_path):\n",
    "    df = pd.read_parquet(parquet_file_path)\n",
    "    df['duration'] = df.tpep_dropoff_datetime - df.tpep_pickup_datetime\n",
    "    df[\"duration\"] = df[\"duration\"].dt.total_seconds() / 60\n",
    "    df = df[(df.duration >= 1) & (df.duration <=60)]\n",
    "    df[categorical] = df[categorical].astype(str)\n",
    "    df['PU_DO'] = df['PULocationID'] + '_' + df['DOLocationID']   # creating a new feature\n",
    "    return df"
   ]
  },
  {
   "cell_type": "code",
   "execution_count": 4,
   "id": "be01b1ef-4520-409a-a8d6-55921b765b74",
   "metadata": {},
   "outputs": [
    {
     "name": "stderr",
     "output_type": "stream",
     "text": [
      "2025/09/06 07:45:50 INFO mlflow.store.db.utils: Creating initial MLflow database tables...\n",
      "2025/09/06 07:45:50 INFO mlflow.store.db.utils: Updating database tables\n",
      "INFO  [alembic.runtime.migration] Context impl SQLiteImpl.\n",
      "INFO  [alembic.runtime.migration] Will assume non-transactional DDL.\n",
      "INFO  [alembic.runtime.migration] Context impl SQLiteImpl.\n",
      "INFO  [alembic.runtime.migration] Will assume non-transactional DDL.\n"
     ]
    },
    {
     "data": {
      "text/plain": [
       "<Experiment: artifact_location='/workspaces/mlops/02-experiment-tracking/mlruns/1', creation_time=1756530340293, experiment_id='1', last_update_time=1756530340293, lifecycle_stage='active', name='nyc-taxi-exp', tags={}>"
      ]
     },
     "execution_count": 4,
     "metadata": {},
     "output_type": "execute_result"
    }
   ],
   "source": [
    "import mlflow \n",
    "mlflow.set_tracking_uri('sqlite:///mlflow.db')\n",
    "mlflow.set_experiment('nyc-taxi-exp')"
   ]
  },
  {
   "cell_type": "code",
   "execution_count": 5,
   "id": "c0a8b4da-5156-4592-9192-1b25e4a87c8a",
   "metadata": {},
   "outputs": [],
   "source": [
    "train_df = get_df(\"data/yellow_tripdata_2023-01.parquet\")\n",
    "val_df = get_df(\"data/yellow_tripdata_2023-02.parquet\")"
   ]
  },
  {
   "cell_type": "code",
   "execution_count": 1,
   "id": "a70cfd48-5ad3-46b9-bff6-39a78dea3044",
   "metadata": {},
   "outputs": [
    {
     "ename": "NameError",
     "evalue": "name 'DictVectorizer' is not defined",
     "output_type": "error",
     "traceback": [
      "\u001b[31m---------------------------------------------------------------------------\u001b[39m",
      "\u001b[31mNameError\u001b[39m                                 Traceback (most recent call last)",
      "\u001b[36mCell\u001b[39m\u001b[36m \u001b[39m\u001b[32mIn[1]\u001b[39m\u001b[32m, line 1\u001b[39m\n\u001b[32m----> \u001b[39m\u001b[32m1\u001b[39m dv = \u001b[43mDictVectorizer\u001b[49m()\n\u001b[32m      2\u001b[39m new_feature = [\u001b[33m'\u001b[39m\u001b[33mPU_DO\u001b[39m\u001b[33m'\u001b[39m]\n\u001b[32m      3\u001b[39m train_dict = train_df[new_feature + numerical].to_dict(orient=\u001b[33m'\u001b[39m\u001b[33mrecords\u001b[39m\u001b[33m'\u001b[39m)\n",
      "\u001b[31mNameError\u001b[39m: name 'DictVectorizer' is not defined"
     ]
    }
   ],
   "source": [
    "dv = DictVectorizer()\n",
    "new_feature = ['PU_DO']\n",
    "train_dict = train_df[new_feature + numerical].to_dict(orient='records')\n",
    "val_dict = val_df[new_feature + numerical].to_dict(orient='records')\n",
    "\n",
    "x_train = dv.fit_transform(train_dict)\n",
    "y_train = train_df[target].values\n",
    "\n",
    "x_val = dv.transform(val_dict)\n",
    "y_val = val_df[target].values"
   ]
  },
  {
   "cell_type": "code",
   "execution_count": 5,
   "id": "04a26eec-822e-48a0-9381-847af4fa66f7",
   "metadata": {},
   "outputs": [],
   "source": [
    "lr = LinearRegression()\n",
    "lr.fit(x_train,y_train);"
   ]
  },
  {
   "cell_type": "code",
   "execution_count": null,
   "id": "3382b84a-fc9c-43cd-a56d-d78348a79330",
   "metadata": {},
   "outputs": [],
   "source": [
    "with mlflow.start_run():\n",
    "    alpha=0.01\n",
    "    mlflow.set_tag('developer','vaibhav')\n",
    "    mlflow.log_param('train_data_path','data/yellow_tripdata_2023-01.parquet')\n",
    "    mlflow.log_param('val_data_path','data/yellow_tripdata_2023-02.parquet')\n",
    "    mlflow.log_param('alpha',alpha)\n",
    "    lr = Ridge()\n",
    "    lr.fit(x_train,y_train)\n",
    "    y_pred = lr.predict(x_val)\n",
    "    rmse = mean_squared_error(y_pred,y_val,squared=False)\n",
    "    mlflow.log_param('rmse',rmse)"
   ]
  },
  {
   "cell_type": "code",
   "execution_count": 1,
   "id": "c8f41dbb-3700-4f8f-b5ae-4cd715f830c1",
   "metadata": {},
   "outputs": [],
   "source": [
    "import xgboost as xgb\n",
    "from hyperopt import fmin,tpe,hp,STATUS_OK,Trials\n",
    "from hyperopt.pyll import scope"
   ]
  },
  {
   "cell_type": "code",
   "execution_count": null,
   "id": "81ab88d3-4be7-48fd-bfe5-58f2c497f031",
   "metadata": {},
   "outputs": [],
   "source": []
  }
 ],
 "metadata": {
  "kernelspec": {
   "display_name": "Python 3 (ipykernel)",
   "language": "python",
   "name": "python3"
  },
  "language_info": {
   "codemirror_mode": {
    "name": "ipython",
    "version": 3
   },
   "file_extension": ".py",
   "mimetype": "text/x-python",
   "name": "python",
   "nbconvert_exporter": "python",
   "pygments_lexer": "ipython3",
   "version": "3.11.13"
  }
 },
 "nbformat": 4,
 "nbformat_minor": 5
}
