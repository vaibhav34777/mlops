{
 "cells": [
  {
   "cell_type": "code",
   "execution_count": 1,
   "id": "b7d82101",
   "metadata": {},
   "outputs": [],
   "source": [
    "import pandas as pd\n",
    "import matplotlib.pyplot as plt \n",
    "import seaborn as sns\n",
    "import pickle\n",
    "from sklearn.feature_extraction import DictVectorizer\n",
    "from sklearn.linear_model import LinearRegression\n",
    "from sklearn.linear_model import Ridge\n",
    "from sklearn.linear_model import SGDRegressor\n",
    "from sklearn.metrics import mean_squared_error"
   ]
  },
  {
   "cell_type": "code",
   "execution_count": 2,
   "id": "8371fddb",
   "metadata": {},
   "outputs": [
    {
     "data": {
      "text/plain": [
       "<Experiment: artifact_location='/home/imvaibhavrana/mlops/02-experiment-tracking/$MLFLOW_DB_URI/886638330577656943', creation_time=1757386861713, experiment_id='886638330577656943', last_update_time=1757386861713, lifecycle_stage='active', name='nyc-taxi-experiment', tags={}>"
      ]
     },
     "execution_count": 2,
     "metadata": {},
     "output_type": "execute_result"
    }
   ],
   "source": [
    "import mlflow\n",
    "mlflow.set_tracking_uri(\"$MLFLOW_DB_URI\")\n",
    "mlflow.set_experiment(\"nyc-taxi-experiment\")"
   ]
  },
  {
   "cell_type": "code",
   "execution_count": 6,
   "id": "2180b68a-289f-432c-a8a1-4ae9bd3b4c43",
   "metadata": {},
   "outputs": [],
   "source": [
    "categorical = ['PULocationID','DOLocationID']\n",
    "numerical = ['trip_distance']\n",
    "target = 'duration'\n",
    "def get_df(parquet_file_path):\n",
    "    df = pd.read_parquet(parquet_file_path)\n",
    "    df['duration'] = df.tpep_dropoff_datetime - df.tpep_pickup_datetime\n",
    "    df[\"duration\"] = df[\"duration\"].dt.total_seconds() / 60\n",
    "    df = df[(df.duration >= 1) & (df.duration <=60)]\n",
    "    df[categorical] = df[categorical].astype(str)\n",
    "    df['PU_DO'] = df['PULocationID'] + '_' + df['DOLocationID']   # creating a new feature\n",
    "    return df"
   ]
  },
  {
   "cell_type": "code",
   "execution_count": 10,
   "id": "c0a8b4da-5156-4592-9192-1b25e4a87c8a",
   "metadata": {},
   "outputs": [],
   "source": [
    "train_df = get_df(\"data/yellow_tripdata_2023-01.parquet\")\n",
    "val_df = get_df(\"data/yellow_tripdata_2023-02.parquet\")\n",
    "train_df = train_df.head(100000)\n",
    "val_df = val_df.head(100000)"
   ]
  },
  {
   "cell_type": "code",
   "execution_count": 11,
   "id": "a70cfd48-5ad3-46b9-bff6-39a78dea3044",
   "metadata": {},
   "outputs": [],
   "source": [
    "dv = DictVectorizer()\n",
    "new_feature = ['PU_DO']\n",
    "train_dict = train_df[new_feature + numerical].to_dict(orient='records')\n",
    "val_dict = val_df[new_feature + numerical].to_dict(orient='records')\n",
    "\n",
    "x_train = dv.fit_transform(train_dict)\n",
    "y_train = train_df[target].values\n",
    "\n",
    "x_val = dv.transform(val_dict)\n",
    "y_val = val_df[target].values"
   ]
  },
  {
   "cell_type": "code",
   "execution_count": null,
   "id": "c7e0554d",
   "metadata": {},
   "outputs": [],
   "source": [
    "with mlflow.start_run():\n",
    "    alpha = 0.1\n",
    "    mlflow.log_param(\"alpha\", alpha)\n",
    "    mlflow.set_tag('model', 'Ridge')\n",
    "    model = Ridge(alpha=alpha, random_state=42)\n",
    "    model.fit(x_train, y_train)\n",
    "    y_pred = model.predict(x_val)\n",
    "    rmse = mean_squared_error(y_val, y_pred, squared=False)\n",
    "    mlflow.log_metric(\"rmse\", rmse)\n",
    "    print(f\"RMSE: {rmse}\")\n",
    "    with open('model.bin','wb') as f_out:\n",
    "        pickle.dump((dv,model),f_out)"
   ]
  },
  {
   "cell_type": "code",
   "execution_count": null,
   "id": "fc2bf228",
   "metadata": {},
   "outputs": [],
   "source": []
  }
 ],
 "metadata": {
  "kernelspec": {
   "display_name": "Python 3 (ipykernel)",
   "language": "python",
   "name": "python3"
  },
  "language_info": {
   "codemirror_mode": {
    "name": "ipython",
    "version": 3
   },
   "file_extension": ".py",
   "mimetype": "text/x-python",
   "name": "python",
   "nbconvert_exporter": "python",
   "pygments_lexer": "ipython3",
   "version": "3.11.13"
  }
 },
 "nbformat": 4,
 "nbformat_minor": 5
}
