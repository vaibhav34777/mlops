{
 "cells": [
  {
   "cell_type": "code",
   "execution_count": 12,
   "id": "b7d82101",
   "metadata": {},
   "outputs": [],
   "source": [
    "import pandas as pd\n",
    "import matplotlib.pyplot as plt \n",
    "import seaborn as sns\n",
    "import pickle\n",
    "from sklearn.feature_extraction import DictVectorizer\n",
    "from sklearn.linear_model import LinearRegression\n",
    "from sklearn.linear_model import Ridge\n",
    "from sklearn.linear_model import SGDRegressor\n",
    "from sklearn.metrics import root_mean_squared_error"
   ]
  },
  {
   "cell_type": "code",
   "execution_count": 13,
   "id": "8371fddb",
   "metadata": {},
   "outputs": [
    {
     "data": {
      "text/plain": [
       "<Experiment: artifact_location='/home/imvaibhavrana/mlops/02-experiment-tracking/$MLFLOW_DB_URI/886638330577656943', creation_time=1757386861713, experiment_id='886638330577656943', last_update_time=1757386861713, lifecycle_stage='active', name='nyc-taxi-experiment', tags={}>"
      ]
     },
     "execution_count": 13,
     "metadata": {},
     "output_type": "execute_result"
    }
   ],
   "source": [
    "import mlflow\n",
    "mlflow.set_tracking_uri(\"$MLFLOW_DB_URI\")\n",
    "mlflow.set_experiment(\"nyc-taxi-experiment\")"
   ]
  },
  {
   "cell_type": "code",
   "execution_count": 14,
   "id": "2180b68a-289f-432c-a8a1-4ae9bd3b4c43",
   "metadata": {},
   "outputs": [],
   "source": [
    "categorical = ['PULocationID','DOLocationID']\n",
    "numerical = ['trip_distance']\n",
    "target = 'duration'\n",
    "def get_df(parquet_file_path):\n",
    "    df = pd.read_parquet(parquet_file_path)\n",
    "    df['duration'] = df.tpep_dropoff_datetime - df.tpep_pickup_datetime\n",
    "    df[\"duration\"] = df[\"duration\"].dt.total_seconds() / 60\n",
    "    df = df[(df.duration >= 1) & (df.duration <=60)]\n",
    "    df[categorical] = df[categorical].astype(str)\n",
    "    df['PU_DO'] = df['PULocationID'] + '_' + df['DOLocationID']   # creating a new feature\n",
    "    return df"
   ]
  },
  {
   "cell_type": "code",
   "execution_count": 15,
   "id": "c0a8b4da-5156-4592-9192-1b25e4a87c8a",
   "metadata": {},
   "outputs": [],
   "source": [
    "train_df = get_df(\"data/yellow_tripdata_2023-01.parquet\")\n",
    "val_df = get_df(\"data/yellow_tripdata_2023-02.parquet\")\n",
    "train_df = train_df.head(100000)\n",
    "val_df = val_df.head(100000)"
   ]
  },
  {
   "cell_type": "code",
   "execution_count": 16,
   "id": "a70cfd48-5ad3-46b9-bff6-39a78dea3044",
   "metadata": {},
   "outputs": [],
   "source": [
    "dv = DictVectorizer()\n",
    "new_feature = ['PU_DO']\n",
    "train_dict = train_df[new_feature + numerical].to_dict(orient='records')\n",
    "val_dict = val_df[new_feature + numerical].to_dict(orient='records')\n",
    "\n",
    "x_train = dv.fit_transform(train_dict)\n",
    "y_train = train_df[target].values\n",
    "\n",
    "x_val = dv.transform(val_dict)\n",
    "y_val = val_df[target].values"
   ]
  },
  {
   "cell_type": "code",
   "execution_count": 17,
   "id": "c7e0554d",
   "metadata": {},
   "outputs": [
    {
     "name": "stdout",
     "output_type": "stream",
     "text": [
      "RMSE: 6.235094602309826\n"
     ]
    }
   ],
   "source": [
    "with mlflow.start_run():\n",
    "    alpha = 0.1\n",
    "    mlflow.log_param(\"alpha\", alpha)\n",
    "    mlflow.set_tag('model', 'Ridge')\n",
    "    model = Ridge(alpha=alpha, random_state=42)\n",
    "    model.fit(x_train, y_train)\n",
    "    y_pred = model.predict(x_val)\n",
    "    rmse = root_mean_squared_error(y_val, y_pred)\n",
    "    mlflow.log_metric(\"rmse\", rmse)\n",
    "    print(f\"RMSE: {rmse}\")\n",
    "    with open('model.bin','wb') as f_out:\n",
    "        pickle.dump((dv,model),f_out)\n",
    "    mlflow.log_artifact('model.bin')"
   ]
  },
  {
   "cell_type": "code",
   "execution_count": 23,
   "id": "fc2bf228",
   "metadata": {},
   "outputs": [],
   "source": [
    "import xgboost as xgb\n",
    "from hyperopt import fmin, tpe, hp, STATUS_OK, Trials\n",
    "from hyperopt.pyll.base import scope"
   ]
  },
  {
   "cell_type": "code",
   "execution_count": 24,
   "id": "8a6d8d3f",
   "metadata": {},
   "outputs": [],
   "source": [
    "dtrain= xgb.DMatrix(x_train, label=y_train)\n",
    "dvalid = xgb.DMatrix(x_val, label=y_val)"
   ]
  },
  {
   "cell_type": "code",
   "execution_count": null,
   "id": "4ab7c465",
   "metadata": {},
   "outputs": [],
   "source": [
    "def objective(params):\n",
    "    with mlflow.start_run():\n",
    "        mlflow.set_tag('model','XGBoost')\n",
    "        mlflow.log_params(params)\n",
    "        booster = xgb.train(params=params, dtrain=dtrain, num_boost_round=100, \n",
    "                            evals=[(dvalid, 'validation')], early_stopping_rounds=50)\n",
    "        y_pred = booster.predict(dvalid)\n",
    "        rmse = root_mean_squared_error(y_val, y_pred)\n",
    "        mlflow.log_metric(\"rmse\", rmse)\n",
    "    return {'loss': rmse, 'status': STATUS_OK}"
   ]
  },
  {
   "cell_type": "code",
   "execution_count": 29,
   "id": "c50d882f",
   "metadata": {},
   "outputs": [],
   "source": [
    "search_space = {\n",
    "    'max_depth': scope.int(hp.quniform('max_depth', 4, 10, 1)),\n",
    "    'learning_rate': hp.loguniform('learning_rate', -3, 0),\n",
    "    'reg_alpha': hp.loguniform('reg_alpha', -5, -1),\n",
    "    'reg_lambda': hp.loguniform('reg_lambda', -6, -1),\n",
    "    'min_child_weight': hp.loguniform('min_child_weight', -1, 3),\n",
    "    'objective': 'reg:linear',\n",
    "    'seed': 42\n",
    "}"
   ]
  },
  {
   "cell_type": "code",
   "execution_count": 30,
   "id": "f5fd3196",
   "metadata": {},
   "outputs": [
    {
     "name": "stdout",
     "output_type": "stream",
     "text": [
      "  0%|          | 0/4 [00:00<?, ?trial/s, best loss=?]"
     ]
    },
    {
     "name": "stdout",
     "output_type": "stream",
     "text": [
      "[0]\tvalidation-rmse:8.95848                          \n",
      "  0%|          | 0/4 [00:00<?, ?trial/s, best loss=?]"
     ]
    },
    {
     "name": "stderr",
     "output_type": "stream",
     "text": [
      "/home/imvaibhavrana/anaconda3/envs/mlops-env/lib/python3.11/site-packages/xgboost/callback.py:386: UserWarning: [10:07:17] WARNING: /workspace/src/objective/regression_obj.cu:245: reg:linear is now deprecated in favor of reg:squarederror.\n",
      "  self.starting_round = model.num_boosted_rounds()\n",
      "\n"
     ]
    },
    {
     "name": "stdout",
     "output_type": "stream",
     "text": [
      "[1]\tvalidation-rmse:8.29705                          \n",
      "[2]\tvalidation-rmse:7.76207                          \n",
      "[3]\tvalidation-rmse:7.33311                          \n",
      "[4]\tvalidation-rmse:6.99035                          \n",
      "[5]\tvalidation-rmse:6.71937                          \n",
      "[6]\tvalidation-rmse:6.50496                          \n",
      "[7]\tvalidation-rmse:6.33834                          \n",
      "[8]\tvalidation-rmse:6.20624                          \n",
      "[9]\tvalidation-rmse:6.10192                          \n",
      "[10]\tvalidation-rmse:6.02138                         \n",
      "[11]\tvalidation-rmse:5.95714                         \n",
      "[12]\tvalidation-rmse:5.90469                         \n",
      "[13]\tvalidation-rmse:5.86446                         \n",
      "[14]\tvalidation-rmse:5.83497                         \n",
      "[15]\tvalidation-rmse:5.81128                         \n",
      "[16]\tvalidation-rmse:5.78959                         \n",
      "[17]\tvalidation-rmse:5.77317                         \n",
      "[18]\tvalidation-rmse:5.76072                         \n",
      "[19]\tvalidation-rmse:5.74890                         \n",
      "[20]\tvalidation-rmse:5.73909                         \n",
      "[21]\tvalidation-rmse:5.73064                         \n",
      "[22]\tvalidation-rmse:5.72237                         \n",
      "[23]\tvalidation-rmse:5.71846                         \n",
      "[24]\tvalidation-rmse:5.71443                         \n",
      "[25]\tvalidation-rmse:5.70959                         \n",
      "[26]\tvalidation-rmse:5.70527                         \n",
      "[27]\tvalidation-rmse:5.70186                         \n",
      "[28]\tvalidation-rmse:5.69862                         \n",
      "[29]\tvalidation-rmse:5.69520                         \n",
      "[30]\tvalidation-rmse:5.69214                         \n",
      "[31]\tvalidation-rmse:5.69039                         \n",
      "[32]\tvalidation-rmse:5.69032                         \n",
      "[33]\tvalidation-rmse:5.69007                         \n",
      "[34]\tvalidation-rmse:5.68926                         \n",
      "[35]\tvalidation-rmse:5.68920                         \n",
      "[36]\tvalidation-rmse:5.68823                         \n",
      "[37]\tvalidation-rmse:5.68765                         \n",
      "[38]\tvalidation-rmse:5.68670                         \n",
      "[39]\tvalidation-rmse:5.68591                         \n",
      "[40]\tvalidation-rmse:5.68557                         \n",
      "[41]\tvalidation-rmse:5.68505                         \n",
      "[42]\tvalidation-rmse:5.68482                         \n",
      "[43]\tvalidation-rmse:5.68421                         \n",
      "[44]\tvalidation-rmse:5.68389                         \n",
      "[45]\tvalidation-rmse:5.68315                         \n",
      "[46]\tvalidation-rmse:5.68273                         \n",
      "[47]\tvalidation-rmse:5.68217                         \n",
      "[48]\tvalidation-rmse:5.68204                         \n",
      "[49]\tvalidation-rmse:5.68134                         \n",
      "[0]\tvalidation-rmse:8.66978                                                  \n",
      " 25%|██▌       | 1/4 [00:08<00:24,  8.06s/trial, best loss: 5.68134422216925]"
     ]
    },
    {
     "name": "stderr",
     "output_type": "stream",
     "text": [
      "/home/imvaibhavrana/anaconda3/envs/mlops-env/lib/python3.11/site-packages/xgboost/callback.py:386: UserWarning: [10:07:25] WARNING: /workspace/src/objective/regression_obj.cu:245: reg:linear is now deprecated in favor of reg:squarederror.\n",
      "  self.starting_round = model.num_boosted_rounds()\n",
      "\n"
     ]
    },
    {
     "name": "stdout",
     "output_type": "stream",
     "text": [
      "[1]\tvalidation-rmse:7.85039                                                  \n",
      "[2]\tvalidation-rmse:7.24727                                                  \n",
      "[3]\tvalidation-rmse:6.81028                                                  \n",
      "[4]\tvalidation-rmse:6.49979                                                  \n",
      "[5]\tvalidation-rmse:6.27813                                                  \n",
      "[6]\tvalidation-rmse:6.12189                                                  \n",
      "[7]\tvalidation-rmse:6.00987                                                  \n",
      "[8]\tvalidation-rmse:5.93060                                                  \n",
      "[9]\tvalidation-rmse:5.87550                                                  \n",
      "[10]\tvalidation-rmse:5.83244                                                 \n",
      "[11]\tvalidation-rmse:5.80202                                                 \n",
      "[12]\tvalidation-rmse:5.77804                                                 \n",
      "[13]\tvalidation-rmse:5.76111                                                 \n",
      "[14]\tvalidation-rmse:5.74717                                                 \n",
      "[15]\tvalidation-rmse:5.73573                                                 \n",
      "[16]\tvalidation-rmse:5.72605                                                 \n",
      "[17]\tvalidation-rmse:5.72125                                                 \n",
      "[18]\tvalidation-rmse:5.71561                                                 \n",
      "[19]\tvalidation-rmse:5.71063                                                 \n",
      "[20]\tvalidation-rmse:5.70628                                                 \n",
      "[21]\tvalidation-rmse:5.70196                                                 \n",
      "[22]\tvalidation-rmse:5.70042                                                 \n",
      "[23]\tvalidation-rmse:5.69898                                                 \n",
      "[24]\tvalidation-rmse:5.69718                                                 \n",
      "[25]\tvalidation-rmse:5.69645                                                 \n",
      "[26]\tvalidation-rmse:5.69594                                                 \n",
      "[27]\tvalidation-rmse:5.69626                                                 \n",
      "[28]\tvalidation-rmse:5.69608                                                 \n",
      "[29]\tvalidation-rmse:5.69565                                                 \n",
      "[30]\tvalidation-rmse:5.69448                                                 \n",
      "[31]\tvalidation-rmse:5.69457                                                 \n",
      "[32]\tvalidation-rmse:5.69170                                                 \n",
      "[33]\tvalidation-rmse:5.69129                                                 \n",
      "[34]\tvalidation-rmse:5.68966                                                 \n",
      "[35]\tvalidation-rmse:5.68878                                                 \n",
      "[36]\tvalidation-rmse:5.68879                                                 \n",
      "[37]\tvalidation-rmse:5.68817                                                 \n",
      "[38]\tvalidation-rmse:5.68811                                                 \n",
      "[39]\tvalidation-rmse:5.68660                                                 \n",
      "[40]\tvalidation-rmse:5.68574                                                 \n",
      "[41]\tvalidation-rmse:5.68515                                                 \n",
      "[42]\tvalidation-rmse:5.68510                                                 \n",
      "[43]\tvalidation-rmse:5.68403                                                 \n",
      "[44]\tvalidation-rmse:5.68369                                                 \n",
      "[45]\tvalidation-rmse:5.68349                                                 \n",
      "[46]\tvalidation-rmse:5.68281                                                 \n",
      "[47]\tvalidation-rmse:5.68204                                                 \n",
      "[48]\tvalidation-rmse:5.68158                                                 \n",
      "[49]\tvalidation-rmse:5.68083                                                 \n",
      " 50%|█████     | 2/4 [00:15<00:15,  7.56s/trial, best loss: 5.680826956472449]"
     ]
    },
    {
     "name": "stderr",
     "output_type": "stream",
     "text": [
      "/home/imvaibhavrana/anaconda3/envs/mlops-env/lib/python3.11/site-packages/xgboost/callback.py:386: UserWarning: [10:07:32] WARNING: /workspace/src/objective/regression_obj.cu:245: reg:linear is now deprecated in favor of reg:squarederror.\n",
      "  self.starting_round = model.num_boosted_rounds()\n",
      "\n"
     ]
    },
    {
     "name": "stdout",
     "output_type": "stream",
     "text": [
      "[0]\tvalidation-rmse:6.37444                                                   \n",
      "[1]\tvalidation-rmse:5.84361                                                   \n",
      "[2]\tvalidation-rmse:5.76082                                                   \n",
      "[3]\tvalidation-rmse:5.73081                                                   \n",
      "[4]\tvalidation-rmse:5.73202                                                   \n",
      "[5]\tvalidation-rmse:5.73223                                                   \n",
      "[6]\tvalidation-rmse:5.73122                                                   \n",
      "[7]\tvalidation-rmse:5.72856                                                   \n",
      "[8]\tvalidation-rmse:5.72561                                                   \n",
      "[9]\tvalidation-rmse:5.71676                                                   \n",
      "[10]\tvalidation-rmse:5.71183                                                  \n",
      "[11]\tvalidation-rmse:5.71005                                                  \n",
      "[12]\tvalidation-rmse:5.70847                                                  \n",
      "[13]\tvalidation-rmse:5.70799                                                  \n",
      "[14]\tvalidation-rmse:5.70967                                                  \n",
      "[15]\tvalidation-rmse:5.70744                                                  \n",
      "[16]\tvalidation-rmse:5.70360                                                  \n",
      "[17]\tvalidation-rmse:5.70184                                                  \n",
      "[18]\tvalidation-rmse:5.69952                                                  \n",
      "[19]\tvalidation-rmse:5.69871                                                  \n",
      "[20]\tvalidation-rmse:5.69844                                                  \n",
      "[21]\tvalidation-rmse:5.69643                                                  \n",
      "[22]\tvalidation-rmse:5.69762                                                  \n",
      "[23]\tvalidation-rmse:5.69801                                                  \n",
      "[24]\tvalidation-rmse:5.69739                                                  \n",
      "[25]\tvalidation-rmse:5.69823                                                  \n",
      "[26]\tvalidation-rmse:5.70112                                                  \n",
      "[27]\tvalidation-rmse:5.69545                                                  \n",
      "[28]\tvalidation-rmse:5.69687                                                  \n",
      "[29]\tvalidation-rmse:5.69256                                                  \n",
      "[30]\tvalidation-rmse:5.69047                                                  \n",
      "[31]\tvalidation-rmse:5.68809                                                  \n",
      "[32]\tvalidation-rmse:5.68643                                                  \n",
      "[33]\tvalidation-rmse:5.68750                                                  \n",
      "[34]\tvalidation-rmse:5.68998                                                  \n",
      "[35]\tvalidation-rmse:5.68844                                                  \n",
      "[36]\tvalidation-rmse:5.68648                                                  \n",
      "[37]\tvalidation-rmse:5.68731                                                  \n",
      "[38]\tvalidation-rmse:5.68693                                                  \n",
      "[39]\tvalidation-rmse:5.68673                                                  \n",
      "[40]\tvalidation-rmse:5.68770                                                  \n",
      "[41]\tvalidation-rmse:5.68727                                                  \n",
      "[42]\tvalidation-rmse:5.68728                                                  \n",
      "[43]\tvalidation-rmse:5.68769                                                  \n",
      "[44]\tvalidation-rmse:5.68858                                                  \n",
      "[45]\tvalidation-rmse:5.68665                                                  \n",
      "[46]\tvalidation-rmse:5.68700                                                  \n",
      "[47]\tvalidation-rmse:5.68521                                                  \n",
      "[48]\tvalidation-rmse:5.68460                                                  \n",
      "[49]\tvalidation-rmse:5.68595                                                  \n",
      "[0]\tvalidation-rmse:6.39026                                                   \n",
      " 75%|███████▌  | 3/4 [00:23<00:07,  7.66s/trial, best loss: 5.680826956472449]"
     ]
    },
    {
     "name": "stderr",
     "output_type": "stream",
     "text": [
      "/home/imvaibhavrana/anaconda3/envs/mlops-env/lib/python3.11/site-packages/xgboost/callback.py:386: UserWarning: [10:07:40] WARNING: /workspace/src/objective/regression_obj.cu:245: reg:linear is now deprecated in favor of reg:squarederror.\n",
      "  self.starting_round = model.num_boosted_rounds()\n",
      "\n"
     ]
    },
    {
     "name": "stdout",
     "output_type": "stream",
     "text": [
      "[1]\tvalidation-rmse:5.87001                                                   \n",
      "[2]\tvalidation-rmse:5.77468                                                   \n",
      "[3]\tvalidation-rmse:5.74648                                                   \n",
      "[4]\tvalidation-rmse:5.73859                                                   \n",
      "[5]\tvalidation-rmse:5.73841                                                   \n",
      "[6]\tvalidation-rmse:5.73426                                                   \n",
      "[7]\tvalidation-rmse:5.73711                                                   \n",
      "[8]\tvalidation-rmse:5.73435                                                   \n",
      "[9]\tvalidation-rmse:5.73152                                                   \n",
      "[10]\tvalidation-rmse:5.72829                                                  \n",
      "[11]\tvalidation-rmse:5.73057                                                  \n",
      "[12]\tvalidation-rmse:5.72827                                                  \n",
      "[13]\tvalidation-rmse:5.72676                                                  \n",
      "[14]\tvalidation-rmse:5.72485                                                  \n",
      "[15]\tvalidation-rmse:5.72270                                                  \n",
      "[16]\tvalidation-rmse:5.72107                                                  \n",
      "[17]\tvalidation-rmse:5.72038                                                  \n",
      "[18]\tvalidation-rmse:5.72149                                                  \n",
      "[19]\tvalidation-rmse:5.72290                                                  \n",
      "[20]\tvalidation-rmse:5.72107                                                  \n",
      "[21]\tvalidation-rmse:5.72069                                                  \n",
      "[22]\tvalidation-rmse:5.72109                                                  \n",
      "[23]\tvalidation-rmse:5.71848                                                  \n",
      "[24]\tvalidation-rmse:5.71738                                                  \n",
      "[25]\tvalidation-rmse:5.71738                                                  \n",
      "[26]\tvalidation-rmse:5.71432                                                  \n",
      "[27]\tvalidation-rmse:5.71337                                                  \n",
      "[28]\tvalidation-rmse:5.71031                                                  \n",
      "[29]\tvalidation-rmse:5.70930                                                  \n",
      "[30]\tvalidation-rmse:5.70908                                                  \n",
      "[31]\tvalidation-rmse:5.70460                                                  \n",
      "[32]\tvalidation-rmse:5.70323                                                  \n",
      "[33]\tvalidation-rmse:5.70018                                                  \n",
      "[34]\tvalidation-rmse:5.69873                                                  \n",
      "[35]\tvalidation-rmse:5.69939                                                  \n",
      "[36]\tvalidation-rmse:5.69958                                                  \n",
      "[37]\tvalidation-rmse:5.69859                                                  \n",
      "[38]\tvalidation-rmse:5.69791                                                  \n",
      "[39]\tvalidation-rmse:5.69675                                                  \n",
      "[40]\tvalidation-rmse:5.69399                                                  \n",
      "[41]\tvalidation-rmse:5.69400                                                  \n",
      "[42]\tvalidation-rmse:5.69176                                                  \n",
      "[43]\tvalidation-rmse:5.68407                                                  \n",
      "[44]\tvalidation-rmse:5.68349                                                  \n",
      "[45]\tvalidation-rmse:5.68323                                                  \n",
      "[46]\tvalidation-rmse:5.68308                                                  \n",
      "[47]\tvalidation-rmse:5.68257                                                  \n",
      "[48]\tvalidation-rmse:5.68137                                                  \n",
      "[49]\tvalidation-rmse:5.68221                                                  \n",
      "100%|██████████| 4/4 [00:30<00:00,  7.64s/trial, best loss: 5.680826956472449]\n",
      "{'learning_rate': np.float64(0.1911356916364054), 'max_depth': np.float64(6.0), 'min_child_weight': np.float64(11.43556616904695), 'reg_alpha': np.float64(0.01761466275961494), 'reg_lambda': np.float64(0.004664186144978534)}\n"
     ]
    }
   ],
   "source": [
    "best_result = fmin(\n",
    "    fn=objective,\n",
    "    space=search_space,\n",
    "    algo=tpe.suggest,\n",
    "    max_evals=4,\n",
    "    trials=Trials()\n",
    ")\n",
    "print(best_result)  "
   ]
  },
  {
   "cell_type": "code",
   "execution_count": null,
   "id": "b1a76e2b",
   "metadata": {},
   "outputs": [],
   "source": []
  }
 ],
 "metadata": {
  "kernelspec": {
   "display_name": "mlops-env",
   "language": "python",
   "name": "python3"
  },
  "language_info": {
   "codemirror_mode": {
    "name": "ipython",
    "version": 3
   },
   "file_extension": ".py",
   "mimetype": "text/x-python",
   "name": "python",
   "nbconvert_exporter": "python",
   "pygments_lexer": "ipython3",
   "version": "3.11.13"
  }
 },
 "nbformat": 4,
 "nbformat_minor": 5
}
