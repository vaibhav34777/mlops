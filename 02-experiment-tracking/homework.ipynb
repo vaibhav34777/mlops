{
 "cells": [
  {
   "cell_type": "code",
   "execution_count": 1,
   "id": "b7d82101",
   "metadata": {},
   "outputs": [],
   "source": [
    "import pandas as pd\n",
    "import matplotlib.pyplot as plt \n",
    "import seaborn as sns\n",
    "import pickle\n",
    "from sklearn.feature_extraction import DictVectorizer\n",
    "from sklearn.linear_model import LinearRegression\n",
    "from sklearn.linear_model import Ridge\n",
    "from sklearn.linear_model import SGDRegressor\n",
    "from sklearn.metrics import root_mean_squared_error"
   ]
  },
  {
   "cell_type": "code",
   "execution_count": 2,
   "id": "8371fddb",
   "metadata": {},
   "outputs": [
    {
     "name": "stderr",
     "output_type": "stream",
     "text": [
      "2025/09/09 11:43:19 INFO mlflow.store.db.utils: Creating initial MLflow database tables...\n",
      "2025/09/09 11:43:19 INFO mlflow.store.db.utils: Updating database tables\n",
      "INFO  [alembic.runtime.migration] Context impl SQLiteImpl.\n",
      "INFO  [alembic.runtime.migration] Will assume non-transactional DDL.\n",
      "INFO  [alembic.runtime.migration] Context impl SQLiteImpl.\n",
      "INFO  [alembic.runtime.migration] Will assume non-transactional DDL.\n"
     ]
    },
    {
     "data": {
      "text/plain": [
       "<Experiment: artifact_location='/workspaces/mlops/02-experiment-tracking/mlruns/1', creation_time=1757415811725, experiment_id='1', last_update_time=1757415811725, lifecycle_stage='active', name='nyc-taxi-experiment', tags={}>"
      ]
     },
     "execution_count": 2,
     "metadata": {},
     "output_type": "execute_result"
    }
   ],
   "source": [
    "import mlflow\n",
    "mlflow.set_tracking_uri(\"sqlite:///mlflow.db\")\n",
    "mlflow.set_experiment(\"nyc-taxi-experiment\")"
   ]
  },
  {
   "cell_type": "code",
   "execution_count": 3,
   "id": "2180b68a-289f-432c-a8a1-4ae9bd3b4c43",
   "metadata": {},
   "outputs": [],
   "source": [
    "categorical = ['PULocationID','DOLocationID']\n",
    "numerical = ['trip_distance']\n",
    "target = 'duration'\n",
    "def get_df(parquet_file_path):\n",
    "    df = pd.read_parquet(parquet_file_path)\n",
    "    df['duration'] = df.tpep_dropoff_datetime - df.tpep_pickup_datetime\n",
    "    df[\"duration\"] = df[\"duration\"].dt.total_seconds() / 60\n",
    "    df = df[(df.duration >= 1) & (df.duration <=60)]\n",
    "    df[categorical] = df[categorical].astype(str)\n",
    "    df['PU_DO'] = df['PULocationID'] + '_' + df['DOLocationID']   # creating a new feature\n",
    "    return df"
   ]
  },
  {
   "cell_type": "code",
   "execution_count": 4,
   "id": "c0a8b4da-5156-4592-9192-1b25e4a87c8a",
   "metadata": {},
   "outputs": [],
   "source": [
    "train_df = get_df(\"data/yellow_tripdata_2023-01.parquet\")\n",
    "val_df = get_df(\"data/yellow_tripdata_2023-02.parquet\")\n",
    "train_df = train_df.head(60000)\n",
    "val_df = val_df.head(50000)"
   ]
  },
  {
   "cell_type": "code",
   "execution_count": 5,
   "id": "a70cfd48-5ad3-46b9-bff6-39a78dea3044",
   "metadata": {},
   "outputs": [],
   "source": [
    "dv = DictVectorizer()\n",
    "new_feature = ['PU_DO']\n",
    "train_dict = train_df[new_feature + numerical].to_dict(orient='records')\n",
    "val_dict = val_df[new_feature + numerical].to_dict(orient='records')\n",
    "\n",
    "x_train = dv.fit_transform(train_dict)\n",
    "y_train = train_df[target].values\n",
    "\n",
    "x_val = dv.transform(val_dict)\n",
    "y_val = val_df[target].values"
   ]
  },
  {
   "cell_type": "code",
   "execution_count": 6,
   "id": "c7e0554d",
   "metadata": {},
   "outputs": [
    {
     "name": "stdout",
     "output_type": "stream",
     "text": [
      "RMSE: 6.32570387422938\n"
     ]
    }
   ],
   "source": [
    "with mlflow.start_run():\n",
    "    alpha = 0.1\n",
    "    mlflow.log_param(\"alpha\", alpha)\n",
    "    mlflow.set_tag('model', 'Ridge')\n",
    "    model = Ridge(alpha=alpha, random_state=42)\n",
    "    model.fit(x_train, y_train)\n",
    "    y_pred = model.predict(x_val)\n",
    "    rmse = root_mean_squared_error(y_val, y_pred)\n",
    "    mlflow.log_metric(\"rmse\", rmse)\n",
    "    print(f\"RMSE: {rmse}\")\n",
    "    with open('model.bin','wb') as f_out:\n",
    "        pickle.dump((dv,model),f_out)\n",
    "    mlflow.log_artifact('model.bin')"
   ]
  },
  {
   "cell_type": "code",
   "execution_count": 6,
   "id": "fc2bf228",
   "metadata": {},
   "outputs": [],
   "source": [
    "import xgboost as xgb\n",
    "from hyperopt import fmin, tpe, hp, STATUS_OK, Trials\n",
    "from hyperopt.pyll.base import scope"
   ]
  },
  {
   "cell_type": "code",
   "execution_count": 7,
   "id": "8a6d8d3f",
   "metadata": {},
   "outputs": [],
   "source": [
    "dtrain= xgb.DMatrix(x_train, label=y_train)\n",
    "dvalid = xgb.DMatrix(x_val, label=y_val)"
   ]
  },
  {
   "cell_type": "code",
   "execution_count": 9,
   "id": "4ab7c465",
   "metadata": {},
   "outputs": [],
   "source": [
    "def objective(params):\n",
    "    with mlflow.start_run():\n",
    "        mlflow.set_tag('model','XGBoost')\n",
    "        mlflow.log_params(params)\n",
    "        booster = xgb.train(params=params, dtrain=dtrain, num_boost_round=10, \n",
    "                            evals=[(dvalid, 'validation')], early_stopping_rounds=5)\n",
    "        y_pred = booster.predict(dvalid)\n",
    "        rmse = root_mean_squared_error(y_val, y_pred)\n",
    "        mlflow.log_metric(\"rmse\", rmse)\n",
    "    return {'loss': rmse, 'status': STATUS_OK}"
   ]
  },
  {
   "cell_type": "code",
   "execution_count": 10,
   "id": "c50d882f",
   "metadata": {},
   "outputs": [],
   "source": [
    "search_space = {\n",
    "    'max_depth': scope.int(hp.quniform('max_depth', 4, 10, 1)),\n",
    "    'learning_rate': hp.loguniform('learning_rate', -3, 0),\n",
    "    'reg_alpha': hp.loguniform('reg_alpha', -5, -1),\n",
    "    'reg_lambda': hp.loguniform('reg_lambda', -6, -1),\n",
    "    'min_child_weight': hp.loguniform('min_child_weight', -1, 3),\n",
    "    'objective': 'reg:linear',\n",
    "    'seed': 42\n",
    "}"
   ]
  },
  {
   "cell_type": "code",
   "execution_count": 11,
   "id": "f5fd3196",
   "metadata": {},
   "outputs": [
    {
     "name": "stdout",
     "output_type": "stream",
     "text": [
      "[0]\tvalidation-rmse:6.68610\n"
     ]
    },
    {
     "name": "stderr",
     "output_type": "stream",
     "text": [
      "/home/codespace/miniconda/envs/mlops-env/lib/python3.11/site-packages/xgboost/callback.py:386: UserWarning: [11:35:25] WARNING: /workspace/src/objective/regression_obj.cu:245: reg:linear is now deprecated in favor of reg:squarederror.\n",
      "  self.starting_round = model.num_boosted_rounds()\n"
     ]
    },
    {
     "name": "stdout",
     "output_type": "stream",
     "text": [
      "[1]\tvalidation-rmse:6.18857\n",
      "[2]\tvalidation-rmse:6.11031\n",
      "[3]\tvalidation-rmse:6.08570\n",
      "[4]\tvalidation-rmse:6.08079\n",
      "[5]\tvalidation-rmse:6.07901\n",
      "[6]\tvalidation-rmse:6.07476\n",
      "[7]\tvalidation-rmse:6.07358\n",
      "[8]\tvalidation-rmse:6.06610\n",
      "[9]\tvalidation-rmse:6.06371\n",
      "[0]\tvalidation-rmse:7.30666\n",
      "[1]\tvalidation-rmse:6.44034\n",
      "[2]\tvalidation-rmse:6.19773\n",
      "[3]\tvalidation-rmse:6.11534\n"
     ]
    },
    {
     "name": "stderr",
     "output_type": "stream",
     "text": [
      "/home/codespace/miniconda/envs/mlops-env/lib/python3.11/site-packages/xgboost/callback.py:386: UserWarning: [11:35:26] WARNING: /workspace/src/objective/regression_obj.cu:245: reg:linear is now deprecated in favor of reg:squarederror.\n",
      "  self.starting_round = model.num_boosted_rounds()\n"
     ]
    },
    {
     "name": "stdout",
     "output_type": "stream",
     "text": [
      "[4]\tvalidation-rmse:6.09984\n",
      "[5]\tvalidation-rmse:6.08296\n",
      "[6]\tvalidation-rmse:6.08120\n",
      "[7]\tvalidation-rmse:6.07333\n",
      "[8]\tvalidation-rmse:6.07220\n",
      "[9]\tvalidation-rmse:6.07829\n",
      "[0]\tvalidation-rmse:9.51564\n",
      "[1]\tvalidation-rmse:8.99555\n"
     ]
    },
    {
     "name": "stderr",
     "output_type": "stream",
     "text": [
      "/home/codespace/miniconda/envs/mlops-env/lib/python3.11/site-packages/xgboost/callback.py:386: UserWarning: [11:35:27] WARNING: /workspace/src/objective/regression_obj.cu:245: reg:linear is now deprecated in favor of reg:squarederror.\n",
      "  self.starting_round = model.num_boosted_rounds()\n"
     ]
    },
    {
     "name": "stdout",
     "output_type": "stream",
     "text": [
      "[2]\tvalidation-rmse:8.54806\n",
      "[3]\tvalidation-rmse:8.16425\n",
      "[4]\tvalidation-rmse:7.83436\n",
      "[5]\tvalidation-rmse:7.55418\n",
      "[6]\tvalidation-rmse:7.31681\n",
      "[7]\tvalidation-rmse:7.11442\n",
      "[8]\tvalidation-rmse:6.94322\n",
      "[9]\tvalidation-rmse:6.79849\n",
      "[0]\tvalidation-rmse:9.46042\n",
      "[1]\tvalidation-rmse:8.90098\n",
      "[2]\tvalidation-rmse:8.42710\n",
      "[3]\tvalidation-rmse:8.02810\n"
     ]
    },
    {
     "name": "stderr",
     "output_type": "stream",
     "text": [
      "/home/codespace/miniconda/envs/mlops-env/lib/python3.11/site-packages/xgboost/callback.py:386: UserWarning: [11:35:28] WARNING: /workspace/src/objective/regression_obj.cu:245: reg:linear is now deprecated in favor of reg:squarederror.\n",
      "  self.starting_round = model.num_boosted_rounds()\n"
     ]
    },
    {
     "name": "stdout",
     "output_type": "stream",
     "text": [
      "[4]\tvalidation-rmse:7.69237\n",
      "[5]\tvalidation-rmse:7.41454\n",
      "[6]\tvalidation-rmse:7.17991\n",
      "[7]\tvalidation-rmse:6.98866\n",
      "[8]\tvalidation-rmse:6.83110\n",
      "[9]\tvalidation-rmse:6.69917\n"
     ]
    }
   ],
   "source": [
    "best_result = fmin(\n",
    "    fn=objective,\n",
    "    space=search_space,\n",
    "    algo=tpe.suggest,\n",
    "    max_evals=4,\n",
    "    trials=Trials(),\n",
    "    verbose=False\n",
    ")"
   ]
  },
  {
   "cell_type": "code",
   "execution_count": 8,
   "id": "b1a76e2b",
   "metadata": {},
   "outputs": [
    {
     "name": "stdout",
     "output_type": "stream",
     "text": [
      "[0]\tvalidation-rmse:6.68610\n",
      "[1]\tvalidation-rmse:6.18857\n"
     ]
    },
    {
     "name": "stderr",
     "output_type": "stream",
     "text": [
      "/home/codespace/miniconda/envs/mlops-env/lib/python3.11/site-packages/xgboost/callback.py:386: UserWarning: [11:43:52] WARNING: /workspace/src/objective/regression_obj.cu:245: reg:linear is now deprecated in favor of reg:squarederror.\n",
      "  self.starting_round = model.num_boosted_rounds()\n"
     ]
    },
    {
     "name": "stdout",
     "output_type": "stream",
     "text": [
      "[2]\tvalidation-rmse:6.11031\n",
      "[3]\tvalidation-rmse:6.08570\n",
      "[4]\tvalidation-rmse:6.08079\n",
      "[5]\tvalidation-rmse:6.07901\n",
      "[6]\tvalidation-rmse:6.07476\n",
      "[7]\tvalidation-rmse:6.07358\n",
      "[8]\tvalidation-rmse:6.06610\n",
      "[9]\tvalidation-rmse:6.06371\n"
     ]
    },
    {
     "name": "stderr",
     "output_type": "stream",
     "text": [
      "2025/09/09 11:43:53 WARNING mlflow.models.model: `artifact_path` is deprecated. Please use `name` instead.\n",
      "/home/codespace/miniconda/envs/mlops-env/lib/python3.11/site-packages/mlflow/xgboost/__init__.py:169: UserWarning: [11:43:53] WARNING: /workspace/src/c_api/c_api.cc:1427: Saving model in the UBJSON format as default.  You can use file extension: `json`, `ubj` or `deprecated` to choose between formats.\n",
      "  xgb_model.save_model(model_data_path)\n"
     ]
    },
    {
     "ename": "",
     "evalue": "",
     "output_type": "error",
     "traceback": [
      "\u001b[1;31mThe Kernel crashed while executing code in the current cell or a previous cell. \n",
      "\u001b[1;31mPlease review the code in the cell(s) to identify a possible cause of the failure. \n",
      "\u001b[1;31mClick <a href='https://aka.ms/vscodeJupyterKernelCrash'>here</a> for more info. \n",
      "\u001b[1;31mView Jupyter <a href='command:jupyter.viewOutput'>log</a> for further details."
     ]
    }
   ],
   "source": [
    "best_params = {\n",
    "    \"learning_rate\": 0.6856143053942376,\n",
    "    \"max_depth\": 7,\n",
    "    \"min_child_weight\": 4.434221562748838,\n",
    "    \"objective\": \"reg:linear\",\n",
    "    \"reg_alpha\": 0.16562147689397697,\n",
    "    \"reg_lambda\": 0.06268756235943868,\n",
    "    \"seed\": 42\n",
    "}\n",
    "with mlflow.start_run():\n",
    "    mlflow.log_params(best_params)\n",
    "    booster = xgb.train(params=best_params, dtrain=dtrain, num_boost_round=10, \n",
    "                                evals=[(dvalid, 'validation')], early_stopping_rounds=5)\n",
    "    y_pred = booster.predict(dvalid)\n",
    "    rmse = root_mean_squared_error(y_val, y_pred)\n",
    "    mlflow.log_metric('rmse',rmse)\n",
    "    mlflow.xgboost.log_model(booster,artifact_path='xgb_model')"
   ]
  },
  {
   "cell_type": "code",
   "execution_count": null,
   "id": "b21f3310",
   "metadata": {},
   "outputs": [],
   "source": []
  }
 ],
 "metadata": {
  "kernelspec": {
   "display_name": "mlops-env",
   "language": "python",
   "name": "python3"
  },
  "language_info": {
   "codemirror_mode": {
    "name": "ipython",
    "version": 3
   },
   "file_extension": ".py",
   "mimetype": "text/x-python",
   "name": "python",
   "nbconvert_exporter": "python",
   "pygments_lexer": "ipython3",
   "version": "3.11.13"
  }
 },
 "nbformat": 4,
 "nbformat_minor": 5
}
